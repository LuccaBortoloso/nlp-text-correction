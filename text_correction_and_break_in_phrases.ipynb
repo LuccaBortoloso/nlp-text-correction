{
  "nbformat": 4,
  "nbformat_minor": 0,
  "metadata": {
    "colab": {
      "name": "text_correction_and_break_in_phrases.ipynb",
      "provenance": [],
      "collapsed_sections": [],
      "authorship_tag": "ABX9TyOD8K54Q5OTHfsM2er2A3ZC"
    },
    "kernelspec": {
      "name": "python3",
      "display_name": "Python 3"
    },
    "language_info": {
      "name": "python"
    }
  },
  "cells": [
    {
      "cell_type": "markdown",
      "source": [
        "# Imports"
      ],
      "metadata": {
        "id": "zKaQwArVZTiZ"
      }
    },
    {
      "cell_type": "code",
      "execution_count": 7,
      "metadata": {
        "colab": {
          "base_uri": "https://localhost:8080/"
        },
        "id": "Ln5F4jKyBS0Z",
        "outputId": "18a76845-1420-4d91-f74c-9291f52adfd5"
      },
      "outputs": [
        {
          "output_type": "stream",
          "name": "stderr",
          "text": [
            "[nltk_data] Downloading package punkt to /root/nltk_data...\n",
            "[nltk_data]   Package punkt is already up-to-date!\n",
            "[nltk_data] Downloading package floresta to /root/nltk_data...\n",
            "[nltk_data]   Package floresta is already up-to-date!\n"
          ]
        }
      ],
      "source": [
        "import nltk\n",
        "nltk.download('punkt')\n",
        "nltk.download('floresta')\n",
        "import re\n",
        "import math\n",
        "import string\n",
        "import random\n",
        "\n",
        "from nltk.corpus import floresta\n",
        "from nltk import tokenize\n",
        "from nltk.metrics.distance  import edit_distance\n",
        "from collections import Counter"
      ]
    },
    {
      "cell_type": "markdown",
      "source": [
        "# Functions"
      ],
      "metadata": {
        "id": "ZCQLXfHnZV5x"
      }
    },
    {
      "cell_type": "code",
      "source": [
        "def tokens(text):\n",
        "    \"List all the word tokens (consecutive letters) in a text. Normalize to lowercase.\"\n",
        "    return re.findall('[a-z]+', text.lower())\n",
        "\n",
        "def sample(bag, n=10):\n",
        "    \"Sample a random n-word sentence from the model described by the bag of words.\"\n",
        "    return ' '.join(random.choice(bag) for _ in range(n))\n",
        "\n",
        "def correct(word):\n",
        "    \"Find the best spelling correction for this word.\"\n",
        "    # Prefer edit distance 0, then 1, then 2; otherwise default to word itself.\n",
        "    candidates = (known(edits0(word)) or \n",
        "                  known(edits1(word)) or \n",
        "                  known(edits2(word)) or \n",
        "                  [word])\n",
        "    return max(candidates, key=COUNTS.get)\n",
        "\n",
        "def known(words):\n",
        "    \"Return the subset of words that are actually in the dictionary.\"\n",
        "    return {w for w in words if w in COUNTS}\n",
        "\n",
        "def edits0(word): \n",
        "    \"Return all strings that are zero edits away from word (i.e., just word itself).\"\n",
        "    return {word}\n",
        "\n",
        "def edits2(word):\n",
        "    \"Return all strings that are two edits away from this word.\"\n",
        "    return {e2 for e1 in edits1(word) for e2 in edits1(e1)}\n",
        "\n",
        "def edits1(word):\n",
        "    \"Return all strings that are one edit away from this word.\"\n",
        "    pairs      = splits(word)\n",
        "    deletes    = [a+b[1:]           for (a, b) in pairs if b]\n",
        "    transposes = [a+b[1]+b[0]+b[2:] for (a, b) in pairs if len(b) > 1]\n",
        "    replaces   = [a+c+b[1:]         for (a, b) in pairs for c in alphabet if b]\n",
        "    inserts    = [a+c+b             for (a, b) in pairs for c in alphabet]\n",
        "    return set(deletes + transposes + replaces + inserts)\n",
        "\n",
        "def splits(word):\n",
        "    \"Return a list of all possible (first, rest) pairs that comprise word.\"\n",
        "    return [(word[:i], word[i:]) \n",
        "            for i in range(len(word)+1)]\n",
        "\n",
        "def correct_text(text):\n",
        "    \"Correct all the words within a text, returning the corrected text.\"\n",
        "    return re.sub('[a-zA-Z]+', correct_match, text)\n",
        "\n",
        "def correct_match(match):\n",
        "    \"Spell-correct word in match, and preserve proper upper/lower/title case.\"\n",
        "    word = match.group()\n",
        "    return case_of(word)(correct(word.lower()))\n",
        "\n",
        "def case_of(text):\n",
        "    \"Return the case-function appropriate for text: upper, lower, title, or just str.\"\n",
        "    return (str.upper if text.isupper() else\n",
        "            str.lower if text.islower() else\n",
        "            str.title if text.istitle() else\n",
        "            str)"
      ],
      "metadata": {
        "id": "G7VP5aITXcjx"
      },
      "execution_count": 8,
      "outputs": []
    },
    {
      "cell_type": "markdown",
      "source": [
        "# Text correction and transforming in sentences"
      ],
      "metadata": {
        "id": "_nB6b5soZY2Q"
      }
    },
    {
      "cell_type": "code",
      "source": [
        "alphabet = 'abcdefghijklmnopqrstuvwxyz'\n",
        "\n",
        "words = floresta.words()\n",
        "text = ''\n",
        "\n",
        "for word in words:\n",
        "  text += ' ' + word\n",
        "\n",
        "WORDS = tokens(text)\n",
        "COUNTS = Counter(WORDS)\n",
        "\n",
        "p = \"Por que você se assusta? O que acontece para a árvore, acontece também para o homem. Quanto mais deseja elevar-se para as alutras e para a luz, mais vigorosamente entera suas raízes para baixo, para o horrendo e profundo: para o mal.\"\n",
        "text = correct_text(p)\n",
        "tokenize.sent_tokenize(text)"
      ],
      "metadata": {
        "colab": {
          "base_uri": "https://localhost:8080/"
        },
        "id": "Hrz_CwlSXMfK",
        "outputId": "6a71cff3-2c29-4849-9a83-50430a2f25ca"
      },
      "execution_count": 9,
      "outputs": [
        {
          "output_type": "execute_result",
          "data": {
            "text/plain": [
              "['Por que você se assusta?',\n",
              " 'O que acontece para a árvore, acontece também para o homem.',\n",
              " 'Quanto mais deseja elevar-se para as alturas e para a luz, mais vigorosamente entra suas raízes para baixo, para o correndo e profundo: para o mal.']"
            ]
          },
          "metadata": {},
          "execution_count": 9
        }
      ]
    }
  ]
}